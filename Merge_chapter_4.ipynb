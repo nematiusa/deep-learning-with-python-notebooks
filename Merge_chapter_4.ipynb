{
  "nbformat": 4,
  "nbformat_minor": 0,
  "metadata": {
    "kernelspec": {
      "display_name": "Python 3",
      "language": "python",
      "name": "python3"
    },
    "language_info": {
      "codemirror_mode": {
        "name": "ipython",
        "version": 3
      },
      "file_extension": ".py",
      "mimetype": "text/x-python",
      "name": "python",
      "nbconvert_exporter": "python",
      "pygments_lexer": "ipython3",
      "version": "3.8.2"
    },
    "colab": {
      "name": "Merge_chapter_4.ipynb",
      "provenance": [],
      "collapsed_sections": []
    }
  },
  "cells": [
    {
      "cell_type": "markdown",
      "metadata": {
        "id": "M0-Eq2SbWa3o",
        "colab_type": "text"
      },
      "source": [
        "# Chapter 4 : Fundamentals of machine learning\n",
        "\n",
        "[Book Link](https://github.com/fchollet/deep-learning-with-python-notebooks)\n",
        "\n",
        "Four branches of machine learning :\n",
        "1. **Supervised learning**  :‌ It consists of learning to map input data to known targets (also called annotations)\n",
        "\n",
        "There are more exotic variants as well, including the following (with examples):\n",
        "* Sequence generation—Given a picture, predict a caption describing it. Sequence generation can sometimes be reformulated as a series of classification problems (such as repeatedly predicting a word or token in a sequence).\n",
        "* Syntax tree prediction—Given a sentence, predict its decomposition into a syntax tree.\n",
        "+Object detection—Given a picture, draw a bounding box around certain objects inside the picture. This can also be expressed as a classification problem (given many candidate bounding boxes, classify the contents of each one) or as a joint classification and regression problem, where the bounding-box coordinates are predicted via vector regression.\n",
        "* Image segmentation—Given a picture, draw a pixel-level mask on a specific object\n",
        "\n",
        "2. **Unsupervised learning:** This branch of machine learning consists of finding interesting transformations of the input data without the help of any targets, for the purposes of data visualization, data compression, or data denoising, or to better understand the correlations present in the data at hand.\n",
        "Dimensionality reduction and clustering are well-known categories of unsupervised learning.\n",
        "3. **Self-supervised learning:** For instance, autoencoders are a well-known instance of self-supervised learning, where the generated targets are the input, unmodified.\n",
        "4. **Reinforcement learning:** For instance, a neural network that “looks” at a videogame screen and outputs game actions in order to maximize its score can be trained via reinforcement learning."
      ]
    },
    {
      "cell_type": "markdown",
      "metadata": {
        "id": "RT042-kRW34z",
        "colab_type": "text"
      },
      "source": [
        "**Classification and regression glossary**\n",
        "\n",
        " *Classification and regression involve many specialized terms. You’ve come across\n",
        "some of them in earlier examples, and you’ll see more of them in future chapters.\n",
        "They have precise, machine-learning-specific definitions, and you should be familiar\n",
        "with them:*\n",
        "\n",
        " Sample or input—One data point that goes into your model.\n",
        "\n",
        " Prediction or output—What comes out of your model.\n",
        "\n",
        " Target—The truth. What your model should ideally have predicted, according to an external source of data.\n",
        "\n",
        " Prediction error or loss value—A measure of the distance between your\n",
        "model’s prediction and the target.\n",
        "\n",
        " Classes—A set of possible labels to choose from in a classification problem. For example, when classifying cat and dog pictures, “dog” and “cat” are the two classes.\n",
        "\n",
        " Label—A specific instance of a class annotation in a classification problem. For instance, if picture #1234 is annotated as containing the class “dog,” then “dog” is a label of picture #1234.\n",
        "\n",
        " Ground-truth or annotations—All targets for a dataset, typically collected by humans.\n",
        "\n",
        " Binary classification—A classification task where each input sample should be categorized into two exclusive categories.\n",
        "\n",
        " Multiclass classification—A classification task where each input sample should be categorized into more than two categories: for instance, classifying handwritten digits.\n",
        "\n",
        " Multilabel classification—A classification task where each input sample can be assigned multiple labels. For instance, a given image may contain both a cat and a dog and should be annotated both with the “cat” label and the “dog” label. The number of labels per image is usually variable.\n",
        "\n",
        " Scalar regression—A task where the target is a continuous scalar value. Predicting house prices is a good example: the different target prices form a continuous space.\n",
        "\n",
        " Vector regression—A task where the target is a set of continuous values: for example, a continuous vector. If you’re doing regression against multiple values (such as the coordinates of a bounding box in an image), then you’re doing vector regression.\n",
        "\n",
        " Mini-batch or batch—A small set of samples (typically between 8 and 128) that are processed simultaneously by the model. The number of samples is often a power of 2, to facilitate memory allocation on GPU. When training, a mini-batch is used to compute a single gradient-descent update applied to the weights of the model."
      ]
    },
    {
      "cell_type": "markdown",
      "metadata": {
        "id": "PLw0KDW0Xgue",
        "colab_type": "text"
      },
      "source": [
        "# Training, validation, and test sets :\n",
        "\n",
        "**Evaluating a model always boils down to splitting the available data into three sets:**\n",
        "\n",
        "training, validation, and test. You train on the training data and evaluate your model\n",
        "on the validation data. Once your model is ready for prime time, you test it one final\n",
        "time on the test data.\n",
        "\n",
        "**why not have two sets: a training set and a test set?**\n",
        "\n",
        "a model always involves tuning its configuration: for example, choosing the number of layers or the size of the layers (called the hyperparameters of the model, to distinguish them from the parameters, which are the network’s weights). \n",
        "\n",
        "You do this tuning by using as a feedback signal the performance of the model on the validation data. In essence, this tuning is a form of learning: a search for a good configuration in some parameter space. \n",
        "\n",
        "As a result, tuning the configuration of the model based on its performance on the validation set can quickly result in overfitting to the validation set, even though your model is never directly trained on it.\n",
        "\n",
        "**Keep an eye out for the following when you’re choosing an evaluation protocol:**\n",
        "\n",
        " Data representativeness—You want both your training set and test set to be representative of the data at hand. For instance, if you’re trying to classify images of digits, and you’re starting from an array of samples where the samples are ordered by their class, taking the first 80% of the array as your training set and the remaining 20% as your test set will result in your training set containing only classes 0–7, whereas your test set contains only classes 8–9. This seems like a ridiculous mistake, but it’s surprisingly common. For this reason, you usually should randomly shuffle your data before splitting it into training and test sets.\n",
        "\n",
        " The arrow of time—If you’re trying to predict the future given the past (for example, tomorrow’s weather, stock movements, and so on), you should not randomly shuffle your data before splitting it, because doing so will create a temporal leak: your model will effectively be trained on data from the future. In such situations, you should always make sure all data in your test set is posterior to the data in the training set.\n",
        "\n",
        " Redundancy in your data—If some data points in your data appear twice (fairly\n",
        "common with real-world data), then shuffling the data and splitting it into a training set and a validation set will result in redundancy between the training and validation sets. In effect, you’ll be testing on part of your training data, which is the worst thing you can do! Make sure your training set and validation set are disjoint.\n",
        "\n",
        "\n",
        "\n",
        "# Data preprocessing for neural networks:\n",
        "1. VECTORIZATION\n",
        "2. VALUE NORMALIZATION\n",
        "3. Handing missing value\n",
        "\n",
        "**your data should have the following characteristics:**\n",
        "\n",
        " Take small values—Typically, most values should be in the 0–1 range.\n",
        "\n",
        " Be homogenous—That is, all features should take values in roughly the same\n",
        "range  Feature engineering: Feature engineering is the process of using your own knowledge about the data and about the machine-learning algorithm at hand (in this case, a neural network) to make the algorithm work better by applying hardcoded (nonlearned) transformations to the data before it goes into the model.\n",
        "\n",
        "**Result of good feature engineering:**\n",
        "1.  Good features still allow you to solve problems more elegantly while using fewer\n",
        "resources. For instance, it would be ridiculous to solve the problem of reading a\n",
        "clock face using a convolutional neural network.\n",
        "2.  Good features let you solve a problem with far less data. The ability of deeplearning models to learn features on their own relies on having lots of training\n",
        "data available; if you have only a few samples, then the information value in\n",
        "their features becomes critical.\n"
      ]
    },
    {
      "cell_type": "code",
      "metadata": {
        "id": "xrXcQrCsWO_S",
        "colab_type": "code",
        "outputId": "fa55591a-f65b-4f84-bd5b-966b34cd3fe9",
        "colab": {
          "base_uri": "https://localhost:8080/",
          "height": 50
        }
      },
      "source": [
        "import keras\n",
        "keras.__version__"
      ],
      "execution_count": 0,
      "outputs": [
        {
          "output_type": "stream",
          "text": [
            "Using TensorFlow backend.\n"
          ],
          "name": "stderr"
        },
        {
          "output_type": "execute_result",
          "data": {
            "text/plain": [
              "'2.3.1'"
            ]
          },
          "metadata": {
            "tags": []
          },
          "execution_count": 1
        }
      ]
    },
    {
      "cell_type": "markdown",
      "metadata": {
        "id": "5is20ZfOWO_a",
        "colab_type": "text"
      },
      "source": [
        "# Overfitting and underfitting\n",
        "\n",
        "Learning how to deal with overfitting is essential to mastering machine learning.\n",
        "\n",
        "The fundamental issue in machine learning is the tension between optimization and generalization. \n",
        "**\"Optimization\"** refers to the process of  adjusting a model to get the best performance possible on the training data (the \"learning\" in \"machine learning\"), \n",
        "\n",
        "**\"generalization\"** \n",
        "refers to how well the trained model would perform on data it has never seen before. The goal of the game is to get good generalization, of course, but you do not control generalization; you can only adjust the model based on its training data.\n",
        "\n",
        "At the beginning of training, optimization and generalization are correlated: the lower your loss on training data, the lower your loss on \n",
        "test data. While this is happening, your model is said to be _under-fit_: there is still progress to be made; the network hasn't yet \n",
        "modeled all relevant patterns in the training data. But after a certain number of iterations on the training data, generalization stops \n",
        "improving, validation metrics stall then start degrading: the model is then starting to over-fit, i.e. is it starting to learn patterns \n",
        "that are specific to the training data but that are misleading or irrelevant when it comes to new data.\n",
        "\n",
        "To prevent a model from learning misleading or irrelevant patterns found in the training data, _the best solution is of course to get \n",
        "more training data_. A model trained on more data will naturally generalize better. When that is no longer possible, the next best solution \n",
        "is to modulate the quantity of information that your model is allowed to store, or to add constraints on what information it is allowed to \n",
        "store. If a network can only afford to memorize a small number of patterns, the optimization process will force it to focus on the most \n",
        "prominent patterns, which have a better chance of generalizing well.\n",
        "\n",
        "**_regularization_** : The processing of fighting overfitting in this way is called _regularization_. "
      ]
    },
    {
      "cell_type": "markdown",
      "metadata": {
        "id": "_IvJsNCSWO_b",
        "colab_type": "text"
      },
      "source": [
        "Note: in this notebook we will be using the IMDB test set as our validation set. It doesn't matter in this context.\n",
        "\n",
        "Let's prepare the data using the code from Chapter 3, Section 5:"
      ]
    },
    {
      "cell_type": "code",
      "metadata": {
        "id": "z9v7ZAlAWO_c",
        "colab_type": "code",
        "outputId": "d6b4a1a7-b117-4eac-af43-358a34534bb0",
        "colab": {
          "base_uri": "https://localhost:8080/",
          "height": 50
        }
      },
      "source": [
        "from keras.datasets import imdb\n",
        "import numpy as np\n",
        "\n",
        "(train_data, train_labels), (test_data, test_labels) = imdb.load_data(num_words=10000)\n",
        "\n",
        "def vectorize_sequences(sequences, dimension=10000):\n",
        "    # Create an all-zero matrix of shape (len(sequences), dimension)\n",
        "    results = np.zeros((len(sequences), dimension))\n",
        "    for i, sequence in enumerate(sequences):\n",
        "        results[i, sequence] = 1.  # set specific indices of results[i] to 1s\n",
        "    return results\n",
        "\n",
        "# Our vectorized training data\n",
        "x_train = vectorize_sequences(train_data)\n",
        "# Our vectorized test data\n",
        "x_test = vectorize_sequences(test_data)\n",
        "# Our vectorized labels\n",
        "y_train = np.asarray(train_labels).astype('float32')\n",
        "y_test = np.asarray(test_labels).astype('float32')"
      ],
      "execution_count": 0,
      "outputs": [
        {
          "output_type": "stream",
          "text": [
            "Downloading data from https://s3.amazonaws.com/text-datasets/imdb.npz\n",
            "17465344/17464789 [==============================] - 2s 0us/step\n"
          ],
          "name": "stdout"
        }
      ]
    },
    {
      "cell_type": "markdown",
      "metadata": {
        "id": "gbTI4OIlWO_g",
        "colab_type": "text"
      },
      "source": [
        "# Fighting overfitting\n",
        "\n",
        "## Reducing the network's size\n",
        "\n",
        "\n",
        "The simplest way to prevent overfitting is to **reduce the size of the model, i.e. the number of learnable parameters in the model (which is determined by the number of layers and the number of units per layer)**. \n",
        "In deep learning, the number of learnable parameters in a model is \n",
        "often referred to as the model's \"capacity\". \n",
        "\n",
        "Intuitively, a model with more parameters will have more \"memorization capacity\" and therefore \n",
        "will be able to easily learn a perfect dictionary-like mapping between training samples and their targets, a mapping without any \n",
        "generalization power. For instance, a model with 500,000 binary parameters could easily be made to learn the class of every digits in the  MNIST training set: we would only need 10 binary parameters for each of the 50,000 digits. Such a model would be useless for classifying \n",
        "new digit samples. \n",
        "\n",
        "**Always keep this in mind: deep learning models tend to be good at fitting to the training data, but the real challenge  is generalization, not fitting.**\n",
        "\n",
        "On the other hand, if the network has limited memorization resources, it will not be able to learn this mapping as easily, and thus, in \n",
        "order to minimize its loss, it will have to resort to learning compressed representations that have predictive power regarding the targets \n",
        "-- precisely the type of representations that we are interested in. At the same time, keep in mind that you should be using models that have \n",
        "enough parameters that they won't be underfitting: your model shouldn't be starved for memorization resources. \n",
        "\n",
        "There is a compromise to be  found between **\"too much capacity\"** and **\"not enough capacity\"**.\n",
        "\n",
        "Unfortunately, there is no magical formula to determine what the right number of layers is, or what the right size for each layer is. You \n",
        "will have to evaluate an array of different architectures (on your validation set, not on your test set, of course) in order to find the \n",
        "right model size for your data. The general workflow to find an appropriate model size is to start with relatively few layers and \n",
        "parameters, and start increasing the size of the layers or adding new layers until you see diminishing returns with regard to the \n",
        "validation loss.\n",
        "\n",
        "Let's try this on our movie review classification network. Our original network was as such:"
      ]
    },
    {
      "cell_type": "code",
      "metadata": {
        "id": "EDPSKX5YWO_h",
        "colab_type": "code",
        "colab": {}
      },
      "source": [
        "from keras import models\n",
        "from keras import layers\n",
        "\n",
        "original_model = models.Sequential()\n",
        "original_model.add(layers.Dense(16, activation='relu', input_shape=(10000,)))\n",
        "original_model.add(layers.Dense(16, activation='relu'))\n",
        "original_model.add(layers.Dense(1, activation='sigmoid'))\n",
        "\n",
        "original_model.compile(optimizer='rmsprop',\n",
        "                       loss='binary_crossentropy',\n",
        "                       metrics=['acc'])"
      ],
      "execution_count": 0,
      "outputs": []
    },
    {
      "cell_type": "markdown",
      "metadata": {
        "id": "hPSsaVmEWO_o",
        "colab_type": "text"
      },
      "source": [
        "Now let's try to replace it with this smaller network:"
      ]
    },
    {
      "cell_type": "code",
      "metadata": {
        "id": "0x1Wl6UwWO_p",
        "colab_type": "code",
        "colab": {}
      },
      "source": [
        "smaller_model = models.Sequential()\n",
        "smaller_model.add(layers.Dense(4, activation='relu', input_shape=(10000,)))\n",
        "smaller_model.add(layers.Dense(4, activation='relu'))\n",
        "smaller_model.add(layers.Dense(1, activation='sigmoid'))\n",
        "\n",
        "smaller_model.compile(optimizer='rmsprop',\n",
        "                      loss='binary_crossentropy',\n",
        "                      metrics=['acc'])"
      ],
      "execution_count": 0,
      "outputs": []
    },
    {
      "cell_type": "markdown",
      "metadata": {
        "id": "U3ugMY8zWO_v",
        "colab_type": "text"
      },
      "source": [
        "\n",
        "Here's a comparison of the validation losses of the original network and the smaller network. The dots are the validation loss values of \n",
        "the smaller network, and the crosses are the initial network (remember: a lower validation loss signals a better model)."
      ]
    },
    {
      "cell_type": "code",
      "metadata": {
        "id": "lMqOYz1YWO_w",
        "colab_type": "code",
        "outputId": "cc259a83-016e-4eed-e127-9ed294af4eb7",
        "colab": {
          "base_uri": "https://localhost:8080/",
          "height": 706
        }
      },
      "source": [
        "original_hist = original_model.fit(x_train, y_train,\n",
        "                                   epochs=20,\n",
        "                                   batch_size=512,\n",
        "                                   validation_data=(x_test, y_test))"
      ],
      "execution_count": 0,
      "outputs": [
        {
          "output_type": "stream",
          "text": [
            "Train on 25000 samples, validate on 25000 samples\n",
            "Epoch 1/20\n",
            "25000/25000 [==============================] - 3s 117us/step - loss: 0.4723 - acc: 0.8193 - val_loss: 0.3541 - val_acc: 0.8784\n",
            "Epoch 2/20\n",
            "25000/25000 [==============================] - 3s 103us/step - loss: 0.2731 - acc: 0.9071 - val_loss: 0.2869 - val_acc: 0.8898\n",
            "Epoch 3/20\n",
            "25000/25000 [==============================] - 3s 104us/step - loss: 0.2061 - acc: 0.9251 - val_loss: 0.2907 - val_acc: 0.8833\n",
            "Epoch 4/20\n",
            "25000/25000 [==============================] - 3s 103us/step - loss: 0.1708 - acc: 0.9382 - val_loss: 0.2989 - val_acc: 0.8826\n",
            "Epoch 5/20\n",
            "25000/25000 [==============================] - 3s 103us/step - loss: 0.1482 - acc: 0.9478 - val_loss: 0.3080 - val_acc: 0.8796\n",
            "Epoch 6/20\n",
            "25000/25000 [==============================] - 3s 104us/step - loss: 0.1300 - acc: 0.9560 - val_loss: 0.3219 - val_acc: 0.8780\n",
            "Epoch 7/20\n",
            "25000/25000 [==============================] - 3s 105us/step - loss: 0.1131 - acc: 0.9614 - val_loss: 0.3437 - val_acc: 0.8751\n",
            "Epoch 8/20\n",
            "25000/25000 [==============================] - 3s 103us/step - loss: 0.1000 - acc: 0.9676 - val_loss: 0.3744 - val_acc: 0.8679\n",
            "Epoch 9/20\n",
            "25000/25000 [==============================] - 3s 102us/step - loss: 0.0880 - acc: 0.9718 - val_loss: 0.3911 - val_acc: 0.8690\n",
            "Epoch 10/20\n",
            "25000/25000 [==============================] - 3s 104us/step - loss: 0.0781 - acc: 0.9740 - val_loss: 0.4174 - val_acc: 0.8663\n",
            "Epoch 11/20\n",
            "25000/25000 [==============================] - 3s 103us/step - loss: 0.0676 - acc: 0.9795 - val_loss: 0.4688 - val_acc: 0.8568\n",
            "Epoch 12/20\n",
            "25000/25000 [==============================] - 3s 103us/step - loss: 0.0578 - acc: 0.9846 - val_loss: 0.4766 - val_acc: 0.8618\n",
            "Epoch 13/20\n",
            "25000/25000 [==============================] - 3s 102us/step - loss: 0.0516 - acc: 0.9864 - val_loss: 0.5063 - val_acc: 0.8587\n",
            "Epoch 14/20\n",
            "25000/25000 [==============================] - 3s 103us/step - loss: 0.0437 - acc: 0.9884 - val_loss: 0.5658 - val_acc: 0.8506\n",
            "Epoch 15/20\n",
            "25000/25000 [==============================] - 3s 104us/step - loss: 0.0389 - acc: 0.9894 - val_loss: 0.5788 - val_acc: 0.8531\n",
            "Epoch 16/20\n",
            "25000/25000 [==============================] - 3s 103us/step - loss: 0.0301 - acc: 0.9933 - val_loss: 0.6095 - val_acc: 0.8556\n",
            "Epoch 17/20\n",
            "25000/25000 [==============================] - 3s 105us/step - loss: 0.0287 - acc: 0.9928 - val_loss: 0.6383 - val_acc: 0.8534\n",
            "Epoch 18/20\n",
            "25000/25000 [==============================] - 3s 104us/step - loss: 0.0224 - acc: 0.9955 - val_loss: 0.6919 - val_acc: 0.8476\n",
            "Epoch 19/20\n",
            "25000/25000 [==============================] - 3s 106us/step - loss: 0.0178 - acc: 0.9962 - val_loss: 0.7152 - val_acc: 0.8492\n",
            "Epoch 20/20\n",
            "25000/25000 [==============================] - 3s 104us/step - loss: 0.0154 - acc: 0.9967 - val_loss: 0.7812 - val_acc: 0.8474\n"
          ],
          "name": "stdout"
        }
      ]
    },
    {
      "cell_type": "code",
      "metadata": {
        "id": "wgB6uM6_WO_0",
        "colab_type": "code",
        "outputId": "dfa0424a-480e-4536-ad00-11d301774baf",
        "colab": {
          "base_uri": "https://localhost:8080/",
          "height": 706
        }
      },
      "source": [
        "smaller_model_hist = smaller_model.fit(x_train, y_train,\n",
        "                                       epochs=20,\n",
        "                                       batch_size=512,\n",
        "                                       validation_data=(x_test, y_test))"
      ],
      "execution_count": 0,
      "outputs": [
        {
          "output_type": "stream",
          "text": [
            "Train on 25000 samples, validate on 25000 samples\n",
            "Epoch 1/20\n",
            "25000/25000 [==============================] - 3s 102us/step - loss: 0.5319 - acc: 0.8006 - val_loss: 0.4346 - val_acc: 0.8677\n",
            "Epoch 2/20\n",
            "25000/25000 [==============================] - 2s 98us/step - loss: 0.3507 - acc: 0.8954 - val_loss: 0.3421 - val_acc: 0.8806\n",
            "Epoch 3/20\n",
            "25000/25000 [==============================] - 3s 100us/step - loss: 0.2676 - acc: 0.9160 - val_loss: 0.3008 - val_acc: 0.8890\n",
            "Epoch 4/20\n",
            "25000/25000 [==============================] - 2s 100us/step - loss: 0.2218 - acc: 0.9273 - val_loss: 0.2850 - val_acc: 0.8896\n",
            "Epoch 5/20\n",
            "25000/25000 [==============================] - 2s 100us/step - loss: 0.1926 - acc: 0.9359 - val_loss: 0.2803 - val_acc: 0.8889\n",
            "Epoch 6/20\n",
            "25000/25000 [==============================] - 2s 99us/step - loss: 0.1723 - acc: 0.9419 - val_loss: 0.2837 - val_acc: 0.8870\n",
            "Epoch 7/20\n",
            "25000/25000 [==============================] - 3s 101us/step - loss: 0.1554 - acc: 0.9492 - val_loss: 0.2886 - val_acc: 0.8853\n",
            "Epoch 8/20\n",
            "25000/25000 [==============================] - 2s 100us/step - loss: 0.1423 - acc: 0.9535 - val_loss: 0.2995 - val_acc: 0.8816\n",
            "Epoch 9/20\n",
            "25000/25000 [==============================] - 3s 100us/step - loss: 0.1317 - acc: 0.9567 - val_loss: 0.3069 - val_acc: 0.8809\n",
            "Epoch 10/20\n",
            "25000/25000 [==============================] - 3s 101us/step - loss: 0.1219 - acc: 0.9600 - val_loss: 0.3206 - val_acc: 0.8786\n",
            "Epoch 11/20\n",
            "25000/25000 [==============================] - 3s 103us/step - loss: 0.1131 - acc: 0.9644 - val_loss: 0.3297 - val_acc: 0.8773\n",
            "Epoch 12/20\n",
            "25000/25000 [==============================] - 3s 101us/step - loss: 0.1054 - acc: 0.9663 - val_loss: 0.3455 - val_acc: 0.8743\n",
            "Epoch 13/20\n",
            "25000/25000 [==============================] - 3s 105us/step - loss: 0.0982 - acc: 0.9699 - val_loss: 0.3587 - val_acc: 0.8724\n",
            "Epoch 14/20\n",
            "25000/25000 [==============================] - 3s 101us/step - loss: 0.0917 - acc: 0.9722 - val_loss: 0.3722 - val_acc: 0.8718\n",
            "Epoch 15/20\n",
            "25000/25000 [==============================] - 3s 101us/step - loss: 0.0863 - acc: 0.9736 - val_loss: 0.3889 - val_acc: 0.8701\n",
            "Epoch 16/20\n",
            "25000/25000 [==============================] - 2s 100us/step - loss: 0.0805 - acc: 0.9763 - val_loss: 0.4097 - val_acc: 0.8652\n",
            "Epoch 17/20\n",
            "25000/25000 [==============================] - 2s 99us/step - loss: 0.0754 - acc: 0.9790 - val_loss: 0.4241 - val_acc: 0.8633\n",
            "Epoch 18/20\n",
            "25000/25000 [==============================] - 2s 99us/step - loss: 0.0707 - acc: 0.9800 - val_loss: 0.4443 - val_acc: 0.8612\n",
            "Epoch 19/20\n",
            "25000/25000 [==============================] - 3s 101us/step - loss: 0.0659 - acc: 0.9821 - val_loss: 0.4587 - val_acc: 0.8636\n",
            "Epoch 20/20\n",
            "25000/25000 [==============================] - 2s 99us/step - loss: 0.0618 - acc: 0.9840 - val_loss: 0.4754 - val_acc: 0.8608\n"
          ],
          "name": "stdout"
        }
      ]
    },
    {
      "cell_type": "code",
      "metadata": {
        "id": "TqirgobIWO_5",
        "colab_type": "code",
        "colab": {}
      },
      "source": [
        "epochs = range(1, 21)\n",
        "original_val_loss = original_hist.history['val_loss']\n",
        "smaller_model_val_loss = smaller_model_hist.history['val_loss']"
      ],
      "execution_count": 0,
      "outputs": []
    },
    {
      "cell_type": "code",
      "metadata": {
        "id": "eFh7gZqNWO_9",
        "colab_type": "code",
        "outputId": "115ef44c-88bd-4b39-c881-8155a54d9f58",
        "colab": {
          "base_uri": "https://localhost:8080/",
          "height": 281
        }
      },
      "source": [
        "import matplotlib.pyplot as plt\n",
        "\n",
        "# b+ is for \"blue cross\"\n",
        "plt.plot(epochs, original_val_loss, 'b-', label='Original model')\n",
        "# \"bo\" is for \"blue dot\"\n",
        "plt.plot(epochs, smaller_model_val_loss, 'ro', label='Smaller model')\n",
        "plt.xlabel('Epochs')\n",
        "plt.ylabel('Validation loss')\n",
        "plt.legend()\n",
        "\n",
        "plt.show()"
      ],
      "execution_count": 0,
      "outputs": [
        {
          "output_type": "display_data",
          "data": {
            "image/png": "[encoded data removed]",
            "text/plain": [
              "<Figure size 432x288 with 1 Axes>"
            ]
          },
          "metadata": {
            "tags": [],
            "needs_background": "light"
          }
        }
      ]
    },
    {
      "cell_type": "markdown",
      "metadata": {
        "id": "vQtTFsGIWPAB",
        "colab_type": "text"
      },
      "source": [
        "\n",
        "As you can see, the smaller network starts overfitting later than the reference one (after 6 epochs rather than 4) and its performance \n",
        "degrades much more slowly once it starts overfitting.\n",
        "\n",
        "Now, for kicks, let's add to this benchmark a network that has much more capacity, far more than the problem would warrant:"
      ]
    },
    {
      "cell_type": "code",
      "metadata": {
        "id": "dLp7pUC8WPAB",
        "colab_type": "code",
        "colab": {}
      },
      "source": [
        "bigger_model = models.Sequential()\n",
        "bigger_model.add(layers.Dense(512, activation='relu', input_shape=(10000,)))\n",
        "bigger_model.add(layers.Dense(512, activation='relu'))\n",
        "bigger_model.add(layers.Dense(1, activation='sigmoid'))\n",
        "\n",
        "bigger_model.compile(optimizer='rmsprop',\n",
        "                     loss='binary_crossentropy',\n",
        "                     metrics=['acc'])"
      ],
      "execution_count": 0,
      "outputs": []
    },
    {
      "cell_type": "code",
      "metadata": {
        "id": "dXya6qbxWPAF",
        "colab_type": "code",
        "outputId": "ab825629-e0ff-4465-cc90-57106edb12cd",
        "colab": {
          "base_uri": "https://localhost:8080/",
          "height": 706
        }
      },
      "source": [
        "bigger_model_hist = bigger_model.fit(x_train, y_train,\n",
        "                                     epochs=20,\n",
        "                                     batch_size=512,\n",
        "                                     validation_data=(x_test, y_test))"
      ],
      "execution_count": 0,
      "outputs": [
        {
          "output_type": "stream",
          "text": [
            "Train on 25000 samples, validate on 25000 samples\n",
            "Epoch 1/20\n",
            "25000/25000 [==============================] - 17s 668us/step - loss: 0.4573 - acc: 0.7970 - val_loss: 0.2980 - val_acc: 0.8794\n",
            "Epoch 2/20\n",
            "25000/25000 [==============================] - 17s 666us/step - loss: 0.2207 - acc: 0.9145 - val_loss: 0.2807 - val_acc: 0.8868\n",
            "Epoch 3/20\n",
            "25000/25000 [==============================] - 17s 665us/step - loss: 0.1322 - acc: 0.9505 - val_loss: 0.3065 - val_acc: 0.8839\n",
            "Epoch 4/20\n",
            "25000/25000 [==============================] - 17s 665us/step - loss: 0.0604 - acc: 0.9826 - val_loss: 0.4437 - val_acc: 0.8819\n",
            "Epoch 5/20\n",
            "25000/25000 [==============================] - 17s 664us/step - loss: 0.0735 - acc: 0.9877 - val_loss: 0.4858 - val_acc: 0.8812\n",
            "Epoch 6/20\n",
            "25000/25000 [==============================] - 17s 667us/step - loss: 0.0017 - acc: 0.9999 - val_loss: 0.7191 - val_acc: 0.8795\n",
            "Epoch 7/20\n",
            "25000/25000 [==============================] - 17s 666us/step - loss: 0.1249 - acc: 0.9873 - val_loss: 0.6048 - val_acc: 0.8788\n",
            "Epoch 8/20\n",
            "25000/25000 [==============================] - 17s 664us/step - loss: 3.4458e-04 - acc: 1.0000 - val_loss: 0.7643 - val_acc: 0.8799\n",
            "Epoch 9/20\n",
            "25000/25000 [==============================] - 17s 665us/step - loss: 6.1457e-05 - acc: 1.0000 - val_loss: 0.9358 - val_acc: 0.8791\n",
            "Epoch 10/20\n",
            "25000/25000 [==============================] - 17s 665us/step - loss: 8.3109e-06 - acc: 1.0000 - val_loss: 1.0900 - val_acc: 0.8770\n",
            "Epoch 11/20\n",
            "25000/25000 [==============================] - 17s 665us/step - loss: 0.1691 - acc: 0.9906 - val_loss: 0.8347 - val_acc: 0.8779\n",
            "Epoch 12/20\n",
            "25000/25000 [==============================] - 17s 668us/step - loss: 9.4293e-06 - acc: 1.0000 - val_loss: 0.8895 - val_acc: 0.8773\n",
            "Epoch 13/20\n",
            "25000/25000 [==============================] - 17s 663us/step - loss: 4.6540e-06 - acc: 1.0000 - val_loss: 0.9432 - val_acc: 0.8770\n",
            "Epoch 14/20\n",
            "25000/25000 [==============================] - 17s 662us/step - loss: 2.1755e-06 - acc: 1.0000 - val_loss: 1.0472 - val_acc: 0.8768\n",
            "Epoch 15/20\n",
            "25000/25000 [==============================] - 17s 662us/step - loss: 5.7636e-07 - acc: 1.0000 - val_loss: 1.2083 - val_acc: 0.8780\n",
            "Epoch 16/20\n",
            "25000/25000 [==============================] - 17s 666us/step - loss: 1.2893e-07 - acc: 1.0000 - val_loss: 1.3315 - val_acc: 0.8784\n",
            "Epoch 17/20\n",
            "25000/25000 [==============================] - 17s 668us/step - loss: 3.9254e-08 - acc: 1.0000 - val_loss: 1.4130 - val_acc: 0.8778\n",
            "Epoch 18/20\n",
            "25000/25000 [==============================] - 17s 666us/step - loss: 1.8497e-08 - acc: 1.0000 - val_loss: 1.4591 - val_acc: 0.8780\n",
            "Epoch 19/20\n",
            "25000/25000 [==============================] - 17s 663us/step - loss: 1.1783e-08 - acc: 1.0000 - val_loss: 1.4895 - val_acc: 0.8778\n",
            "Epoch 20/20\n",
            "25000/25000 [==============================] - 17s 665us/step - loss: 8.7551e-09 - acc: 1.0000 - val_loss: 1.5097 - val_acc: 0.8779\n"
          ],
          "name": "stdout"
        }
      ]
    },
    {
      "cell_type": "markdown",
      "metadata": {
        "id": "nTu7zWkLWPAL",
        "colab_type": "text"
      },
      "source": [
        "Here's how the bigger network fares compared to the reference one. The dots are the validation loss values of the bigger network, and the \n",
        "crosses are the initial network."
      ]
    },
    {
      "cell_type": "code",
      "metadata": {
        "id": "IsdnUkY4WPAM",
        "colab_type": "code",
        "outputId": "888d2232-efb8-4baf-c306-c02bc451934e",
        "colab": {
          "base_uri": "https://localhost:8080/",
          "height": 279
        }
      },
      "source": [
        "bigger_model_val_loss = bigger_model_hist.history['val_loss']\n",
        "\n",
        "plt.plot(epochs, original_val_loss, 'b-', label='Original model')\n",
        "plt.plot(epochs, bigger_model_val_loss, 'ro', label='Bigger model')\n",
        "plt.xlabel('Epochs')\n",
        "plt.ylabel('Validation loss')\n",
        "plt.legend()\n",
        "\n",
        "plt.show()"
      ],
      "execution_count": 0,
      "outputs": [
        {
          "output_type": "display_data",
          "data": {
            "image/png": "[encoded data removed]",
            "text/plain": [
              "<Figure size 432x288 with 1 Axes>"
            ]
          },
          "metadata": {
            "tags": [],
            "needs_background": "light"
          }
        }
      ]
    },
    {
      "cell_type": "markdown",
      "metadata": {
        "id": "f6duYdoLWPAP",
        "colab_type": "text"
      },
      "source": [
        "\n",
        "The bigger network starts overfitting almost right away, after just one epoch, and overfits much more severely. Its validation loss is also \n",
        "more noisy.\n",
        "\n",
        "Meanwhile, here are the training losses for our two networks:"
      ]
    },
    {
      "cell_type": "code",
      "metadata": {
        "id": "XEDZbYXuWPAQ",
        "colab_type": "code",
        "outputId": "1b9414ff-3d0a-4651-c4f0-3b79a893512d",
        "colab": {
          "base_uri": "https://localhost:8080/",
          "height": 279
        }
      },
      "source": [
        "original_train_loss = original_hist.history['loss']\n",
        "bigger_model_train_loss = bigger_model_hist.history['loss']\n",
        "\n",
        "plt.plot(epochs, original_train_loss, 'b-', label='Original model')\n",
        "plt.plot(epochs, bigger_model_train_loss, 'ro', label='Bigger model')\n",
        "plt.xlabel('Epochs')\n",
        "plt.ylabel('Training loss')\n",
        "plt.legend()\n",
        "\n",
        "plt.show()"
      ],
      "execution_count": 0,
      "outputs": [
        {
          "output_type": "display_data",
          "data": {
            "image/png": "[encoded data removed]",
            "text/plain": [
              "<Figure size 432x288 with 1 Axes>"
            ]
          },
          "metadata": {
            "tags": [],
            "needs_background": "light"
          }
        }
      ]
    },
    {
      "cell_type": "markdown",
      "metadata": {
        "id": "w4n7JcP7WPAU",
        "colab_type": "text"
      },
      "source": [
        "As you can see, the bigger network gets its training loss near zero very quickly. The more capacity the network has, the quicker it will be \n",
        "able to model the training data (resulting in a low training loss), but the more susceptible it is to overfitting (resulting in a large \n",
        "difference between the training and validation loss)."
      ]
    },
    {
      "cell_type": "markdown",
      "metadata": {
        "id": "v1cM_uerWPAU",
        "colab_type": "text"
      },
      "source": [
        "## Adding weight regularization\n",
        "\n",
        "\n",
        "You may be familiar with _Occam's Razor_ principle: given two explanations for something, the explanation most likely to be correct is the \n",
        "\"simplest\" one, the one that makes the least amount of assumptions. This also applies to the models learned by neural networks: given some \n",
        "training data and a network architecture, there are multiple sets of weights values (multiple _models_) that could explain the data, and \n",
        "simpler models are less likely to overfit than complex ones.\n",
        "\n",
        "A \"simple model\" in this context is a model where the distribution of parameter values has less entropy (or a model with fewer \n",
        "parameters altogether, as we saw in the section above). Thus a common way to mitigate overfitting is to put constraints on the complexity \n",
        "of a network by forcing its weights to only take small values, which makes the distribution of weight values more \"regular\". This is called \n",
        "\"weight regularization\", and it is done by adding to the loss function of the network a _cost_ associated with having large weights. This \n",
        "cost comes in two flavors:\n",
        "\n",
        "* **L1 regularization**: where the cost added is proportional to the _absolute value of the weights coefficients_ (i.e. to what is called the \"L1 norm\" of the weights).\n",
        "* **L2 regularization**: where the cost added is proportional to the _square of the value of the weights coefficients_ (i.e. to what is called \n",
        "the \"L2 norm\" of the weights). L2 regularization is also called **_weight decay_** in the context of neural networks. \n",
        "\n",
        "*Don't let the different name confuse you: weight decay is mathematically the exact same as L2 regularization.*\n",
        "\n",
        "In Keras, weight regularization is added by passing **_weight regularizer instances_** to layers as keyword arguments. Let's add L2 weight \n",
        "regularization to our movie review classification network:"
      ]
    },
    {
      "cell_type": "code",
      "metadata": {
        "id": "97D6H1kkWPAV",
        "colab_type": "code",
        "colab": {}
      },
      "source": [
        "from keras import regularizers\n",
        "\n",
        "l2_model = models.Sequential()\n",
        "l2_model.add(layers.Dense(16, kernel_regularizer=regularizers.l2(0.001),\n",
        "                          activation='relu', input_shape=(10000,)))\n",
        "l2_model.add(layers.Dense(16, kernel_regularizer=regularizers.l2(0.001),\n",
        "                          activation='relu'))\n",
        "l2_model.add(layers.Dense(1, activation='sigmoid'))"
      ],
      "execution_count": 0,
      "outputs": []
    },
    {
      "cell_type": "code",
      "metadata": {
        "id": "AckXuG8KWPAd",
        "colab_type": "code",
        "colab": {}
      },
      "source": [
        "l2_model.compile(optimizer='rmsprop',\n",
        "                 loss='binary_crossentropy',\n",
        "                 metrics=['acc'])"
      ],
      "execution_count": 0,
      "outputs": []
    },
    {
      "cell_type": "markdown",
      "metadata": {
        "id": "6OsvSTKrWPAh",
        "colab_type": "text"
      },
      "source": [
        "`l2(0.001)` means that every coefficient in the weight matrix of the layer will add `0.001 * weight_coefficient_value` to the total loss of \n",
        "the network. Note that because this penalty is _only added at training time_, the loss for this network will be much higher at training \n",
        "than at test time.\n",
        "\n",
        "Here's the impact of our L2 regularization penalty:"
      ]
    },
    {
      "cell_type": "code",
      "metadata": {
        "id": "nv_THQ-rWPAh",
        "colab_type": "code",
        "outputId": "a576121c-9d5a-4919-ff62-e94cc99db6b3",
        "colab": {
          "base_uri": "https://localhost:8080/",
          "height": 706
        }
      },
      "source": [
        "l2_model_hist = l2_model.fit(x_train, y_train,\n",
        "                             epochs=20,\n",
        "                             batch_size=512,\n",
        "                             validation_data=(x_test, y_test))"
      ],
      "execution_count": 0,
      "outputs": [
        {
          "output_type": "stream",
          "text": [
            "Train on 25000 samples, validate on 25000 samples\n",
            "Epoch 1/20\n",
            "25000/25000 [==============================] - 3s 120us/step - loss: 0.4922 - acc: 0.8233 - val_loss: 0.3921 - val_acc: 0.8695\n",
            "Epoch 2/20\n",
            "25000/25000 [==============================] - 3s 115us/step - loss: 0.3153 - acc: 0.9051 - val_loss: 0.3401 - val_acc: 0.8860\n",
            "Epoch 3/20\n",
            "25000/25000 [==============================] - 3s 116us/step - loss: 0.2742 - acc: 0.9215 - val_loss: 0.3321 - val_acc: 0.8895\n",
            "Epoch 4/20\n",
            "25000/25000 [==============================] - 3s 116us/step - loss: 0.2518 - acc: 0.9283 - val_loss: 0.3415 - val_acc: 0.8844\n",
            "Epoch 5/20\n",
            "25000/25000 [==============================] - 3s 116us/step - loss: 0.2405 - acc: 0.9323 - val_loss: 0.3961 - val_acc: 0.8649\n",
            "Epoch 6/20\n",
            "25000/25000 [==============================] - 3s 115us/step - loss: 0.2328 - acc: 0.9356 - val_loss: 0.3892 - val_acc: 0.8694\n",
            "Epoch 7/20\n",
            "25000/25000 [==============================] - 3s 113us/step - loss: 0.2269 - acc: 0.9396 - val_loss: 0.4204 - val_acc: 0.8579\n",
            "Epoch 8/20\n",
            "25000/25000 [==============================] - 3s 114us/step - loss: 0.2261 - acc: 0.9387 - val_loss: 0.3761 - val_acc: 0.8765\n",
            "Epoch 9/20\n",
            "25000/25000 [==============================] - 3s 113us/step - loss: 0.2170 - acc: 0.9427 - val_loss: 0.3792 - val_acc: 0.8746\n",
            "Epoch 10/20\n",
            "25000/25000 [==============================] - 3s 114us/step - loss: 0.2155 - acc: 0.9430 - val_loss: 0.3832 - val_acc: 0.8753\n",
            "Epoch 11/20\n",
            "25000/25000 [==============================] - 3s 113us/step - loss: 0.2096 - acc: 0.9454 - val_loss: 0.3898 - val_acc: 0.8737\n",
            "Epoch 12/20\n",
            "25000/25000 [==============================] - 3s 113us/step - loss: 0.2095 - acc: 0.9452 - val_loss: 0.4078 - val_acc: 0.8715\n",
            "Epoch 13/20\n",
            "25000/25000 [==============================] - 3s 112us/step - loss: 0.2079 - acc: 0.9449 - val_loss: 0.4055 - val_acc: 0.8712\n",
            "Epoch 14/20\n",
            "25000/25000 [==============================] - 3s 114us/step - loss: 0.1991 - acc: 0.9492 - val_loss: 0.4183 - val_acc: 0.8696\n",
            "Epoch 15/20\n",
            "25000/25000 [==============================] - 3s 113us/step - loss: 0.2022 - acc: 0.9471 - val_loss: 0.4086 - val_acc: 0.8706\n",
            "Epoch 16/20\n",
            "25000/25000 [==============================] - 3s 112us/step - loss: 0.2016 - acc: 0.9487 - val_loss: 0.4152 - val_acc: 0.8701\n",
            "Epoch 17/20\n",
            "25000/25000 [==============================] - 3s 114us/step - loss: 0.1946 - acc: 0.9505 - val_loss: 0.4626 - val_acc: 0.8604\n",
            "Epoch 18/20\n",
            "25000/25000 [==============================] - 3s 113us/step - loss: 0.1961 - acc: 0.9493 - val_loss: 0.4189 - val_acc: 0.8686\n",
            "Epoch 19/20\n",
            "25000/25000 [==============================] - 3s 112us/step - loss: 0.1913 - acc: 0.9514 - val_loss: 0.4252 - val_acc: 0.8685\n",
            "Epoch 20/20\n",
            "25000/25000 [==============================] - 3s 113us/step - loss: 0.1926 - acc: 0.9504 - val_loss: 0.4789 - val_acc: 0.8591\n"
          ],
          "name": "stdout"
        }
      ]
    },
    {
      "cell_type": "code",
      "metadata": {
        "id": "blPaJDVdWPAl",
        "colab_type": "code",
        "outputId": "5dcbeaa5-cd2e-4a76-d13e-b71a46d94ce3",
        "colab": {
          "base_uri": "https://localhost:8080/",
          "height": 281
        }
      },
      "source": [
        "l2_model_val_loss = l2_model_hist.history['val_loss']\n",
        "\n",
        "plt.plot(epochs, original_val_loss, 'b-', label='Original model')\n",
        "plt.plot(epochs, l2_model_val_loss, 'ro', label='L2-regularized model')\n",
        "plt.xlabel('Epochs')\n",
        "plt.ylabel('Validation loss')\n",
        "plt.legend()\n",
        "\n",
        "plt.show()"
      ],
      "execution_count": 0,
      "outputs": [
        {
          "output_type": "display_data",
          "data": {
            "image/png": "[encoded data removed]",
            "text/plain": [
              "<Figure size 432x288 with 1 Axes>"
            ]
          },
          "metadata": {
            "tags": [],
            "needs_background": "light"
          }
        }
      ]
    },
    {
      "cell_type": "markdown",
      "metadata": {
        "id": "VyEmusgLWPAp",
        "colab_type": "text"
      },
      "source": [
        "\n",
        "\n",
        "As you can see, the model with L2 regularization (dots) has become much more resistant to overfitting than the reference model (crosses), \n",
        "even though both models have the same number of parameters.\n",
        "\n",
        "As alternatives to L2 regularization, you could use one of the following Keras weight regularizers:"
      ]
    },
    {
      "cell_type": "code",
      "metadata": {
        "id": "iz52BIvAWPAp",
        "colab_type": "code",
        "outputId": "bbd61fe1-e934-4638-ca64-b3cc58e2f429",
        "colab": {
          "base_uri": "https://localhost:8080/",
          "height": 34
        }
      },
      "source": [
        "from keras import regularizers\n",
        "\n",
        "# L1 regularization\n",
        "regularizers.l1(0.001)\n",
        "\n",
        "# L1 and L2 regularization at the same time\n",
        "regularizers.l1_l2(l1=0.001, l2=0.001)"
      ],
      "execution_count": 0,
      "outputs": [
        {
          "output_type": "execute_result",
          "data": {
            "text/plain": [
              "<keras.regularizers.L1L2 at 0x7fddf24f1668>"
            ]
          },
          "metadata": {
            "tags": []
          },
          "execution_count": 17
        }
      ]
    },
    {
      "cell_type": "markdown",
      "metadata": {
        "id": "-1ZcRGruWPAs",
        "colab_type": "text"
      },
      "source": [
        "## Adding dropout We Are Here\n",
        "\n",
        "\n",
        "Dropout is one of the most effective and most commonly used regularization techniques for neural networks, developed by Hinton and his \n",
        "students at the University of Toronto. Dropout, applied to a layer, consists of randomly \"dropping out\" (i.e. setting to zero) a number of \n",
        "output features of the layer during training. Let's say a given layer would normally have returned a vector `[0.2, 0.5, 1.3, 0.8, 1.1]` for a \n",
        "given input sample during training; after applying dropout, this vector will have a few zero entries distributed at random, e.g. `[0, 0.5, \n",
        "1.3, 0, 1.1]`. The \"dropout rate\" is the fraction of the features that are being zeroed-out; it is usually set between 0.2 and 0.5. At test \n",
        "time, no units are dropped out, and instead the layer's output values are scaled down by a factor equal to the dropout rate, so as to \n",
        "balance for the fact that more units are active than at training time.\n",
        "\n",
        "Consider a Numpy matrix containing the output of a layer, `layer_output`, of shape `(batch_size, features)`. At training time, we would be \n",
        "zero-ing out at random a fraction of the values in the matrix:"
      ]
    },
    {
      "cell_type": "markdown",
      "metadata": {
        "id": "Lbu5gQ7Wck0y",
        "colab_type": "text"
      },
      "source": [
        "# At training time: we drop out 50% of the units in the output\n",
        "layer_output *= np.random.randint(0, high=2, size=layer_output.shape)"
      ]
    },
    {
      "cell_type": "markdown",
      "metadata": {
        "id": "QWL8H-ZnWPAw",
        "colab_type": "text"
      },
      "source": [
        "\n",
        "At test time, we would be scaling the output down by the dropout rate. Here we scale by 0.5 (because we were previous dropping half the \n",
        "units):"
      ]
    },
    {
      "cell_type": "code",
      "metadata": {
        "id": "6FReY-cpWPAw",
        "colab_type": "code",
        "colab": {}
      },
      "source": [
        "# At test time:\n",
        "# layer_output *= 0.5"
      ],
      "execution_count": 0,
      "outputs": []
    },
    {
      "cell_type": "markdown",
      "metadata": {
        "id": "Or_2DRkEWPAz",
        "colab_type": "text"
      },
      "source": [
        "\n",
        "Note that this process can be implemented by doing both operations at training time and leaving the output unchanged at test time, which is \n",
        "often the way it is implemented in practice:"
      ]
    },
    {
      "cell_type": "code",
      "metadata": {
        "id": "0EuHUjHBWPA0",
        "colab_type": "code",
        "colab": {}
      },
      "source": [
        "# At training time:\n",
        "layer_output *= np.randint(0, high=2, size=layer_output.shape)\n",
        "# Note that we are scaling *up* rather scaling *down* in this case\n",
        "layer_output /= 0.5"
      ],
      "execution_count": 0,
      "outputs": []
    },
    {
      "cell_type": "code",
      "metadata": {
        "id": "MQyddLV9edhB",
        "colab_type": "code",
        "colab": {
          "base_uri": "https://localhost:8080/",
          "height": 170
        },
        "outputId": "237cddf4-a169-48cb-94df-35ee63d95285"
      },
      "source": [
        "from IPython.display import *\n",
        "Image(filename='./image/dropout.png')"
      ],
      "execution_count": 1,
      "outputs": [
        {
          "output_type": "execute_result",
          "data": {
            "image/png": "[encoded data removed]",
            "text/plain": [
              "<IPython.core.display.Image object>"
            ]
          },
          "metadata": {
            "tags": []
          },
          "execution_count": 1
        }
      ]
    },
    {
      "cell_type": "markdown",
      "metadata": {
        "id": "UvnJUUNDWPA3",
        "colab_type": "text"
      },
      "source": [
        "\n",
        "This technique may seem strange and arbitrary. Why would this help reduce overfitting? Geoff Hinton has said that he was inspired, among \n",
        "other things, by a fraud prevention mechanism used by banks -- in his own words: _\"I went to my bank. The tellers kept changing and I asked \n",
        "one of them why. He said he didn’t know but they got moved around a lot. I figured it must be because it would require cooperation \n",
        "between employees to successfully defraud the bank. This made me realize that randomly removing a different subset of neurons on each \n",
        "example would prevent conspiracies and thus reduce overfitting\"_.\n",
        "\n",
        "The core idea is that introducing noise in the output values of a layer can break up happenstance patterns that are not significant (what \n",
        "Hinton refers to as \"conspiracies\"), which the network would start memorizing if no noise was present. \n",
        "\n",
        "In Keras you can introduce dropout in a network via the `Dropout` layer, which gets applied to the output of layer right before it, e.g.:"
      ]
    },
    {
      "cell_type": "code",
      "metadata": {
        "id": "tdRoeij5WPA4",
        "colab_type": "code",
        "colab": {}
      },
      "source": [
        "# model.add(layers.Dropout(0.5))"
      ],
      "execution_count": 0,
      "outputs": []
    },
    {
      "cell_type": "markdown",
      "metadata": {
        "id": "5iUUWHPoWPBB",
        "colab_type": "text"
      },
      "source": [
        "Let's add two `Dropout` layers in our IMDB network to see how well they do at reducing overfitting:"
      ]
    },
    {
      "cell_type": "code",
      "metadata": {
        "id": "HLMx6M8qWPBC",
        "colab_type": "code",
        "colab": {}
      },
      "source": [
        "dpt_model = models.Sequential()\n",
        "dpt_model.add(layers.Dense(16, activation='relu', input_shape=(10000,)))\n",
        "dpt_model.add(layers.Dropout(0.5))\n",
        "dpt_model.add(layers.Dense(16, activation='relu'))\n",
        "dpt_model.add(layers.Dropout(0.5))\n",
        "dpt_model.add(layers.Dense(1, activation='sigmoid'))\n",
        "\n",
        "dpt_model.compile(optimizer='rmsprop',\n",
        "                  loss='binary_crossentropy',\n",
        "                  metrics=['acc'])"
      ],
      "execution_count": 0,
      "outputs": []
    },
    {
      "cell_type": "code",
      "metadata": {
        "id": "6CMmNl_UWPBF",
        "colab_type": "code",
        "outputId": "76da5789-b897-4cc8-df97-75b692e5698d",
        "colab": {
          "base_uri": "https://localhost:8080/",
          "height": 706
        }
      },
      "source": [
        "dpt_model_hist = dpt_model.fit(x_train, y_train,\n",
        "                               epochs=20,\n",
        "                               batch_size=512,\n",
        "                               validation_data=(x_test, y_test))"
      ],
      "execution_count": 0,
      "outputs": [
        {
          "output_type": "stream",
          "text": [
            "Train on 25000 samples, validate on 25000 samples\n",
            "Epoch 1/20\n",
            "25000/25000 [==============================] - 3s 127us/step - loss: 0.6118 - acc: 0.6638 - val_loss: 0.4845 - val_acc: 0.8620\n",
            "Epoch 2/20\n",
            "25000/25000 [==============================] - 3s 114us/step - loss: 0.4720 - acc: 0.7910 - val_loss: 0.3686 - val_acc: 0.8807\n",
            "Epoch 3/20\n",
            "25000/25000 [==============================] - 3s 112us/step - loss: 0.3903 - acc: 0.8482 - val_loss: 0.3140 - val_acc: 0.8871\n",
            "Epoch 4/20\n",
            "25000/25000 [==============================] - 3s 112us/step - loss: 0.3320 - acc: 0.8800 - val_loss: 0.2857 - val_acc: 0.8886\n",
            "Epoch 5/20\n",
            "25000/25000 [==============================] - 3s 113us/step - loss: 0.2919 - acc: 0.8968 - val_loss: 0.2814 - val_acc: 0.8891\n",
            "Epoch 6/20\n",
            "25000/25000 [==============================] - 3s 114us/step - loss: 0.2606 - acc: 0.9105 - val_loss: 0.2891 - val_acc: 0.8883\n",
            "Epoch 7/20\n",
            "25000/25000 [==============================] - 3s 112us/step - loss: 0.2312 - acc: 0.9189 - val_loss: 0.2976 - val_acc: 0.8834\n",
            "Epoch 8/20\n",
            "25000/25000 [==============================] - 3s 112us/step - loss: 0.2172 - acc: 0.9254 - val_loss: 0.3137 - val_acc: 0.8854\n",
            "Epoch 9/20\n",
            "25000/25000 [==============================] - 3s 114us/step - loss: 0.2002 - acc: 0.9318 - val_loss: 0.3324 - val_acc: 0.8841\n",
            "Epoch 10/20\n",
            "25000/25000 [==============================] - 3s 113us/step - loss: 0.1832 - acc: 0.9357 - val_loss: 0.3371 - val_acc: 0.8816\n",
            "Epoch 11/20\n",
            "25000/25000 [==============================] - 3s 112us/step - loss: 0.1733 - acc: 0.9405 - val_loss: 0.3784 - val_acc: 0.8801\n",
            "Epoch 12/20\n",
            "25000/25000 [==============================] - 3s 115us/step - loss: 0.1658 - acc: 0.9440 - val_loss: 0.3777 - val_acc: 0.8817\n",
            "Epoch 13/20\n",
            "25000/25000 [==============================] - 3s 114us/step - loss: 0.1633 - acc: 0.9463 - val_loss: 0.4058 - val_acc: 0.8800\n",
            "Epoch 14/20\n",
            "25000/25000 [==============================] - 3s 113us/step - loss: 0.1576 - acc: 0.9470 - val_loss: 0.4280 - val_acc: 0.8799\n",
            "Epoch 15/20\n",
            "25000/25000 [==============================] - 3s 114us/step - loss: 0.1502 - acc: 0.9482 - val_loss: 0.4341 - val_acc: 0.8782\n",
            "Epoch 16/20\n",
            "25000/25000 [==============================] - 3s 114us/step - loss: 0.1426 - acc: 0.9521 - val_loss: 0.4685 - val_acc: 0.8779\n",
            "Epoch 17/20\n",
            "25000/25000 [==============================] - 3s 115us/step - loss: 0.1401 - acc: 0.9520 - val_loss: 0.4813 - val_acc: 0.8758\n",
            "Epoch 18/20\n",
            "25000/25000 [==============================] - 3s 113us/step - loss: 0.1423 - acc: 0.9520 - val_loss: 0.4999 - val_acc: 0.8747\n",
            "Epoch 19/20\n",
            "25000/25000 [==============================] - 3s 113us/step - loss: 0.1349 - acc: 0.9554 - val_loss: 0.5016 - val_acc: 0.8740\n",
            "Epoch 20/20\n",
            "25000/25000 [==============================] - 3s 114us/step - loss: 0.1322 - acc: 0.9558 - val_loss: 0.5497 - val_acc: 0.8712\n"
          ],
          "name": "stdout"
        }
      ]
    },
    {
      "cell_type": "markdown",
      "metadata": {
        "id": "pJBjgjpAWPBH",
        "colab_type": "text"
      },
      "source": [
        "Let's plot the results:"
      ]
    },
    {
      "cell_type": "code",
      "metadata": {
        "id": "SORNjNm2WPBI",
        "colab_type": "code",
        "outputId": "b13065a8-1dec-43f6-c2d4-8fae9d5c566e",
        "colab": {
          "base_uri": "https://localhost:8080/",
          "height": 281
        }
      },
      "source": [
        "dpt_model_val_loss = dpt_model_hist.history['val_loss']\n",
        "\n",
        "plt.plot(epochs, original_val_loss, 'b+', label='Original model')\n",
        "plt.plot(epochs, dpt_model_val_loss, 'ro', label='Dropout-regularized model')\n",
        "plt.xlabel('Epochs')\n",
        "plt.ylabel('Validation loss')\n",
        "plt.legend()\n",
        "\n",
        "plt.show()"
      ],
      "execution_count": 0,
      "outputs": [
        {
          "output_type": "display_data",
          "data": {
            "image/png": "[encoded data removed]",
            "text/plain": [
              "<Figure size 432x288 with 1 Axes>"
            ]
          },
          "metadata": {
            "tags": [],
            "needs_background": "light"
          }
        }
      ]
    },
    {
      "cell_type": "markdown",
      "metadata": {
        "id": "PLGyDdfHWPBL",
        "colab_type": "text"
      },
      "source": [
        "\n",
        "Again, a clear improvement over the reference network.\n",
        "\n",
        "# To recap: here the most common ways to prevent overfitting in neural networks:\n",
        "\n",
        "* Getting more training data.\n",
        "* Reducing the capacity of the network.\n",
        "* Adding weight regularization.\n",
        "* Adding dropout."
      ]
    },
    {
      "cell_type": "markdown",
      "metadata": {
        "id": "dk20NUNJkVZn",
        "colab_type": "text"
      },
      "source": [
        "**Be aware of the hypotheses:**\n",
        "\n",
        " You hypothesize that your outputs can be predicted given your inputs.\n",
        "\n",
        " You hypothesize that your available data is sufficiently informative to learn the\n",
        "relationship between inputs and outputs\n",
        "\n",
        "`Not all problems can be solved;` just because you’ve assembled examples of inputs X and targets Y doesn’t mean X contains enough information to predict Y. "
      ]
    },
    {
      "cell_type": "markdown",
      "metadata": {
        "id": "RPjSF15wlAIy",
        "colab_type": "text"
      },
      "source": [
        "Keep in mind that machine learning can only be used to memorize patterns that\n",
        "are present in your training data. \n",
        "\n",
        "* For `balanced-classification problems`, where every class is equally likely, accuracy and\n",
        "area under the receiver operating characteristic curve (ROC AUC) are common metrics. \n",
        "\n",
        "**In general, you can hope that the lower the crossentropy gets, the higher the ROC AUC will be.**\n",
        "\n",
        "* For `class-imbalanced problems`, you can use precision and recall. \n",
        "\n",
        "* For `ranking problems or multilabel classification`, you can use mean average precision. \n",
        "\n"
      ]
    },
    {
      "cell_type": "markdown",
      "metadata": {
        "id": "aI21qhgplwYt",
        "colab_type": "text"
      },
      "source": [
        "**Three layers of building model:**\n",
        "\n",
        " **Last-layer activation**—This establishes useful constraints on the network’s output. For instance, the IMDB classification example used sigmoid in the last\n",
        "layer; the regression example didn’t use any last-layer activation; and so on.\n",
        "\n",
        " **Loss function**—This should match the type of problem you’re trying to solve. For\n",
        "instance, the IMDB example used binary_crossentropy, the regression example used mse, and so on.\n",
        "\n",
        " **Optimization configuration**—What optimizer will you use? What will its learning\n",
        "rate be? In most cases, it’s safe to go with rmsprop and its default learning rate"
      ]
    },
    {
      "cell_type": "code",
      "metadata": {
        "id": "LQf5Tuy5nba7",
        "colab_type": "code",
        "colab": {
          "base_uri": "https://localhost:8080/",
          "height": 214
        },
        "outputId": "326dff5d-227b-48c4-f419-cfe2430ddecb"
      },
      "source": [
        "Image(filename=\"./image/activation_loss_function.png\")"
      ],
      "execution_count": 2,
      "outputs": [
        {
          "output_type": "execute_result",
          "data": {
            "image/png": "[encoded data removed]",
            "text/plain": [
              "<IPython.core.display.Image object>"
            ]
          },
          "metadata": {
            "tags": []
          },
          "execution_count": 2
        }
      ]
    },
    {
      "cell_type": "markdown",
      "metadata": {
        "id": "pg4d0mS4nh2r",
        "colab_type": "text"
      },
      "source": [
        "To figure out how big a model you’ll need, you must develop a model that overfits.\n",
        "This is fairly easy:\n",
        "1. Add layers.\n",
        "2. Make the layers bigger.\n",
        "3. Train for more epochs\n",
        "\n",
        "Always monitor the training loss and validation loss, as well as the training and validation values for any metrics you care about.\n",
        "\n",
        "**These are some things you should try until the model is as good as it can get:**\n",
        "\n",
        " Add dropout.\n",
        "\n",
        " Try different architectures: add or remove layers.\n",
        "\n",
        " Add L1 and/or L2 regularization\n",
        "\n",
        " Try different hyperparameters (such as the number of units per layer or the\n",
        "learning rate of the optimizer) to find the optimal configuration.\n",
        "\n",
        " Optionally, iterate on feature engineering: add new features, or remove features that don’t seem to be informative"
      ]
    },
    {
      "cell_type": "markdown",
      "metadata": {
        "id": "6VVS3fG7okgP",
        "colab_type": "text"
      },
      "source": [
        "# Chapter summary\n",
        "\n",
        " Define the problem at hand and the data on which you’ll train. Collect\n",
        "this data, or annotate it with labels if need be.\n",
        "\n",
        " Choose how you’ll measure success on your problem. Which metrics will\n",
        "you monitor on your validation data?\n",
        "\n",
        " Determine your evaluation protocol: hold-out validation? K-fold validation? Which portion of the data should you use for validation?\n",
        "\n",
        " Develop a first model that does better than a basic baseline: a model with\n",
        "statistical power.\n",
        "\n",
        " Develop a model that overfits.\n",
        "\n",
        " Regularize your model and tune its hyperparameters, based on performance on the validation data. A lot of machine-learning research tends to\n",
        "focus only on this step—but keep the big picture in mind"
      ]
    }
  ]
}